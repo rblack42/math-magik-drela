{
 "cells": [
  {
   "cell_type": "markdown",
   "id": "b0bc9636",
   "metadata": {},
   "source": [
    "# QProp Algorithms"
   ]
  },
  {
   "cell_type": "markdown",
   "id": "6eb1b437",
   "metadata": {},
   "source": [
    "In this section we will work through the *Qprop* source files and unwrap the basic algorithm from the code. The theory behind the program is described in one of the documents available on Drela's MIT website, which is in the reference section of this project.\n",
    "\n",
    "As an experiment, *Python* code that implements the original *Fortran* code found in each file will be presented. "
   ]
  },
  {
   "cell_type": "markdown",
   "id": "a69880dc",
   "metadata": {},
   "source": [
    "## qprop.f"
   ]
  },
  {
   "cell_type": "markdown",
   "id": "56df8596",
   "metadata": {},
   "source": [
    "```{eval-rst}\n",
    ".. note:: \n",
    "\n",
    "    hello from rst\n",
    "```"
   ]
  },
  {
   "cell_type": "code",
   "execution_count": 3,
   "id": "8a3f60f3",
   "metadata": {},
   "outputs": [],
   "source": [
    "# qprop.f\n",
    "\n",
    "import sys\n",
    "\n",
    "def qprop():\n",
    "    args = sys.argv\n",
    "    print(\"hello\")"
   ]
  },
  {
   "cell_type": "code",
   "execution_count": null,
   "outputs": [],
   "source": [],
   "metadata": {
    "collapsed": false
   }
  }
 ],
 "metadata": {
  "kernelspec": {
   "display_name": "Python 3 (ipykernel)",
   "language": "python",
   "name": "python3"
  },
  "language_info": {
   "codemirror_mode": {
    "name": "ipython",
    "version": 3
   },
   "file_extension": ".py",
   "mimetype": "text/x-python",
   "name": "python",
   "nbconvert_exporter": "python",
   "pygments_lexer": "ipython3",
   "version": "3.10.8"
  },
  "toc": {
   "base_numbering": 1,
   "nav_menu": {},
   "number_sections": true,
   "sideBar": true,
   "skip_h1_title": false,
   "title_cell": "Table of Contents",
   "title_sidebar": "Contents",
   "toc_cell": false,
   "toc_position": {},
   "toc_section_display": true,
   "toc_window_display": false
  },
  "varInspector": {
   "cols": {
    "lenName": 16,
    "lenType": 16,
    "lenVar": 40
   },
   "kernels_config": {
    "python": {
     "delete_cmd_postfix": "",
     "delete_cmd_prefix": "del ",
     "library": "var_list.py",
     "varRefreshCmd": "print(var_dic_list())"
    },
    "r": {
     "delete_cmd_postfix": ") ",
     "delete_cmd_prefix": "rm(",
     "library": "var_list.r",
     "varRefreshCmd": "cat(var_dic_list()) "
    }
   },
   "types_to_exclude": [
    "module",
    "function",
    "builtin_function_or_method",
    "instance",
    "_Feature"
   ],
   "window_display": false
  }
 },
 "nbformat": 4,
 "nbformat_minor": 5
}
