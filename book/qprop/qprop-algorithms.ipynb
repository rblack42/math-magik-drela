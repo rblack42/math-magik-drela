{
 "cells": [
  {
   "cell_type": "markdown",
   "id": "b0bc9636",
   "metadata": {},
   "source": [
    "# QProp Algorithms"
   ]
  },
  {
   "cell_type": "markdown",
   "id": "f57eed34",
   "metadata": {},
   "source": [
    "In this section we will work through the *Qprop* source files and unwrap the basic algorithm from the code. The theory behind the program is described in one of the documents available on Drela's MIT website, which is in the reference section of this project.\n",
    "\n",
    "The heart of the program is found in the **gvcalc.f** routine which calculates the thrust and torque values for a slice of the propellor found at some radius from the hub. This routine is called multiple times by the **tvcalc.f** code to integrate over the full propeller.\n",
    "\n",
    "The theory behind the calculations is found in the **qprop_theory.pdf** document. "
   ]
  },
  {
   "cell_type": "markdown",
   "id": "a27f830a",
   "metadata": {},
   "source": [
    "Basically, gvcalc uses a *Newton Iteration* scheme to calculate the circulation around the blade slice. The input data for this routine includes the slice data, including the aerodynamic properties, the free-stream properties, and the radial position and chord value. \n",
    "\n",
    "The *Newton Iteration* loops over this equation:\n",
    "\n",
    "\\begin{equation}\n",
    "\\psi_{n+1} = \\psi_n + \\delta\\psi\n",
    "\\end{equation}\n",
    "\n",
    "Where:\n",
    "\n",
    "\\begin{equation}\n",
    "\\delta\\psi = \\frac{d\\mathscr{R}}{d\\mathscr{R}/d\\psi}\n",
    "\\end{equation}\n",
    "\n",
    "\\begin{equation}\n",
    "\\mathscr{R}(\\psi) = \\Gamma \\frac{1}{2}W c c_l(\\alpha, Re, Ma)\n",
    "\\end{equation}\n",
    "This is equation \n",
    "\n",
    "## Airfoil Aerodynamics\n",
    "\n",
    "I am not sure why Drela chose to use simplified aerodynamic data in this program, given that he also developed *XFoil*. IN any case, the aerodynamic properties used are a simple linear $c_l$ vs $\\alpha$ line with a maximun and minimum cutoff specified. Also, the $\\frac{C_l}{C_d} curve is a quatratic curve. These values are described in the **qprop_doc.txt** file:\n",
    "\n",
    "\\begin{align}\n",
    "N &- Number of blades \\\\\n",
    "c(r) &- \\text{chord as a function of radial position} \\\\\n",
    "C_{l0} &- \\text{lift at zero angle of attack} \\\\\n",
    "C_{l min} &- \\text{minimum point on lift curve} \\\\\n",
    "C_{l max} &- \\text{maximum point on lift curve} \\\\\n",
    "\\beta &- (1 - \\sqrt{(1-m^2)} \\text{local Prandtl-Meyer Compressibility Factor}\n",
    "\\end{align}\n",
    "\n",
    "\\begin{equation}\n",
    "C_l(\\alpha) = \\frac{C_{l0} + C_{l\\alpha}\\alpha}{\\beta}\n",
    "\\end{equation}\n",
    "\n",
    "This function is clipped to the max and min values specified above."
   ]
  },
  {
   "cell_type": "markdown",
   "id": "6eb1b437",
   "metadata": {},
   "source": [
    "As an experiment, *Python* code that implements the original *Fortran* code found in each file will be presented. "
   ]
  },
  {
   "cell_type": "markdown",
   "id": "a69880dc",
   "metadata": {},
   "source": [
    "## qprop.f"
   ]
  },
  {
   "cell_type": "markdown",
   "id": "56df8596",
   "metadata": {},
   "source": [
    "```{eval-rst}\n",
    ".. note:: \n",
    "\n",
    "    hello from rst\n",
    "```"
   ]
  },
  {
   "cell_type": "code",
   "execution_count": 3,
   "id": "8a3f60f3",
   "metadata": {},
   "outputs": [],
   "source": [
    "# qprop.f\n",
    "\n",
    "import sys\n",
    "\n",
    "def qprop():\n",
    "    args = sys.argv\n",
    "    print(\"hello\")"
   ]
  },
  {
   "cell_type": "code",
   "execution_count": null,
   "id": "5b3da282",
   "metadata": {},
   "outputs": [],
   "source": []
  }
 ],
 "metadata": {
  "kernelspec": {
   "display_name": "Python 3 (ipykernel)",
   "language": "python",
   "name": "python3"
  },
  "language_info": {
   "codemirror_mode": {
    "name": "ipython",
    "version": 3
   },
   "file_extension": ".py",
   "mimetype": "text/x-python",
   "name": "python",
   "nbconvert_exporter": "python",
   "pygments_lexer": "ipython3",
   "version": "3.11.0"
  },
  "toc": {
   "base_numbering": 1,
   "nav_menu": {},
   "number_sections": true,
   "sideBar": true,
   "skip_h1_title": false,
   "title_cell": "Table of Contents",
   "title_sidebar": "Contents",
   "toc_cell": false,
   "toc_position": {},
   "toc_section_display": true,
   "toc_window_display": false
  },
  "varInspector": {
   "cols": {
    "lenName": 16,
    "lenType": 16,
    "lenVar": 40
   },
   "kernels_config": {
    "python": {
     "delete_cmd_postfix": "",
     "delete_cmd_prefix": "del ",
     "library": "var_list.py",
     "varRefreshCmd": "print(var_dic_list())"
    },
    "r": {
     "delete_cmd_postfix": ") ",
     "delete_cmd_prefix": "rm(",
     "library": "var_list.r",
     "varRefreshCmd": "cat(var_dic_list()) "
    }
   },
   "types_to_exclude": [
    "module",
    "function",
    "builtin_function_or_method",
    "instance",
    "_Feature"
   ],
   "window_display": false
  }
 },
 "nbformat": 4,
 "nbformat_minor": 5
}
